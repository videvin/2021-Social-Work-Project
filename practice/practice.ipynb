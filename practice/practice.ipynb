{
 "cells": [
  {
   "cell_type": "code",
   "execution_count": 2,
   "metadata": {},
   "outputs": [],
   "source": [
    "from manim import *\n",
    "\n",
    "config.media_width = \"60%\""
   ]
  },
  {
   "cell_type": "markdown",
   "metadata": {},
   "source": [
    "## Updaters\n",
    "\n",
    "functions applied to Mobject in every frame"
   ]
  },
  {
   "cell_type": "code",
   "execution_count": 3,
   "metadata": {},
   "outputs": [
    {
     "name": "stderr",
     "output_type": "stream",
     "text": [
      "                                                                           \r"
     ]
    },
    {
     "data": {
      "text/html": [
       "<video src=\"media/jupyter/updaters@2022-03-01@10-15-09.mp4\" controls autoplay loop style=\"max-width: 60%;\"  >\n",
       "      Your browser does not support the <code>video</code> element.\n",
       "    </video>"
      ],
      "text/plain": [
       "<IPython.core.display.Video object>"
      ]
     },
     "metadata": {},
     "output_type": "display_data"
    }
   ],
   "source": [
    "%%manim -v WARNING -ql updaters\n",
    "\n",
    "class updaters(Scene):\n",
    "    def construct(self):\n",
    "        path = VMobject()\n",
    "        dot = Dot()\n",
    "        path.set_points_as_corners([dot.get_center(), dot.get_center()])\n",
    "        def update_path(path):\n",
    "            previous_path = path.copy()\n",
    "            previous_path.add_points_as_corners([dot.get_center()])\n",
    "            path.become(previous_path)\n",
    "        path.add_updater(update_path)\n",
    "        self.add(path, dot)\n",
    "        self.play(Rotating(dot, radians=PI, about_point=RIGHT, run_time=2))\n",
    "        self.wait()\n"
   ]
  },
  {
   "cell_type": "markdown",
   "metadata": {},
   "source": [
    "## Objects position: numpy arrays"
   ]
  },
  {
   "cell_type": "code",
   "execution_count": 15,
   "metadata": {},
   "outputs": [
    {
     "name": "stdout",
     "output_type": "stream",
     "text": [
      "1.0\n"
     ]
    },
    {
     "data": {
      "text/html": [
       "<video src=\"media/jupyter/arrays_position@2022-03-01@10-46-24.mp4\" controls autoplay loop style=\"max-width: 60%;\"  >\n",
       "      Your browser does not support the <code>video</code> element.\n",
       "    </video>"
      ],
      "text/plain": [
       "<IPython.core.display.Video object>"
      ]
     },
     "metadata": {},
     "output_type": "display_data"
    }
   ],
   "source": [
    "%%manim -v WARNING -ql arrays_position\n",
    "\n",
    "class arrays_position(Scene):\n",
    "    def construct(self):\n",
    "        dot1 = Dot(point = [1,2,0])\n",
    "        print(dot1.get_center()[0])\n",
    "        dot1.set_color(BLUE)\n",
    "        self.add(dot1)\n",
    "        self.wait()\n",
    "\n"
   ]
  },
  {
   "cell_type": "code",
   "execution_count": 43,
   "metadata": {},
   "outputs": [
    {
     "name": "stderr",
     "output_type": "stream",
     "text": [
      "Animation 0: _MethodAnimation(Dot):   0%|          | 0/30 [00:00<?, ?it/s]<string>:5: DeprecationWarning: This method is not guaranteed to stay around. Please prefer setting the attribute normally or with Mobject.set().\n",
      "                                                                                   \r"
     ]
    },
    {
     "data": {
      "text/html": [
       "<video src=\"media/jupyter/working_point@2022-03-01@14-02-19.mp4\" controls autoplay loop style=\"max-width: 60%;\"  >\n",
       "      Your browser does not support the <code>video</code> element.\n",
       "    </video>"
      ],
      "text/plain": [
       "<IPython.core.display.Video object>"
      ]
     },
     "metadata": {},
     "output_type": "display_data"
    }
   ],
   "source": [
    "%%manim -v WARNING -ql working_point\n",
    "\n",
    "class working_point(Scene):\n",
    "    def construct(self):\n",
    "        def dot_box(mobject):\n",
    "                mobject.set_value(dot.get_center()[0])\n",
    "                mobject.next_to(dot,DOWN)\n",
    "        dot = Dot(ORIGIN, color=BLUE)\n",
    "        box = Square()\n",
    "        rectangle = Rectangle()\n",
    "        box.add_updater(dot_box)\n",
    "        self.add(dot,box)\n",
    "        self.play(dot.animate.shift(PI), run_time=2)\n",
    "\n",
    "        "
   ]
  },
  {
   "cell_type": "code",
   "execution_count": 57,
   "metadata": {},
   "outputs": [
    {
     "name": "stderr",
     "output_type": "stream",
     "text": [
      "                                                                \r"
     ]
    },
    {
     "data": {
      "text/html": [
       "<video src=\"media/jupyter/Moving_interval@2022-03-01@14-17-50.mp4\" controls autoplay loop style=\"max-width: 60%;\"  >\n",
       "      Your browser does not support the <code>video</code> element.\n",
       "    </video>"
      ],
      "text/plain": [
       "<IPython.core.display.Video object>"
      ]
     },
     "metadata": {},
     "output_type": "display_data"
    }
   ],
   "source": [
    "%%manim -v WARNING -ql Moving_interval\n",
    "\n",
    "class Moving_interval(Scene):\n",
    "    def construct(self):\n",
    "        dot1 = Dot().set_color(BLUE)\n",
    "        l1 = Line(np.array([-2,1,0]), RIGHT*4)\n",
    "        square2 = Square()\n",
    "        self.play(Create(l1))"
   ]
  },
  {
   "cell_type": "code",
   "execution_count": 22,
   "metadata": {},
   "outputs": [
    {
     "name": "stderr",
     "output_type": "stream",
     "text": [
      "                                                                      \r"
     ]
    },
    {
     "data": {
      "text/html": [
       "<video src=\"media/jupyter/Moving_interval@2022-03-01@14-41-30.mp4\" controls autoplay loop style=\"max-width: 60%;\"  >\n",
       "      Your browser does not support the <code>video</code> element.\n",
       "    </video>"
      ],
      "text/plain": [
       "<IPython.core.display.Video object>"
      ]
     },
     "metadata": {},
     "output_type": "display_data"
    }
   ],
   "source": [
    "%%manim -v WARNING -ql Moving_interval\n",
    "\n",
    "class Moving_interval(Scene):\n",
    "    def construct(self):\n",
    "        d1 = Dot().set_color(BLUE)\n",
    "        l1 = Line(LEFT, RIGHT)\n",
    "        l2 = VMobject()\n",
    "        self.add(d1, l1, l2)\n",
    "        l2.add_updater(lambda x: x.become(Line(LEFT, d1.get_center()).set_color(RED)))\n",
    "        self.play(MoveAlongPath(d1, l1), rate_func=linear)"
   ]
  },
  {
   "cell_type": "code",
   "execution_count": 30,
   "metadata": {},
   "outputs": [
    {
     "name": "stderr",
     "output_type": "stream",
     "text": [
      "                                                                      \r"
     ]
    },
    {
     "data": {
      "text/html": [
       "<video src=\"media/jupyter/number_line@2022-03-01@14-48-51.mp4\" controls autoplay loop style=\"max-width: 60%;\"  >\n",
       "      Your browser does not support the <code>video</code> element.\n",
       "    </video>"
      ],
      "text/plain": [
       "<IPython.core.display.Video object>"
      ]
     },
     "metadata": {},
     "output_type": "display_data"
    }
   ],
   "source": [
    "%%manim -v WARNING -ql number_line\n",
    "\n",
    "class number_line(Scene):\n",
    "    def construct(self):\n",
    "        line2 = NumberLine(x_range=[0,1], length=10, include_numbers=True)\n",
    "        d2 = Dot().set_color(BLUE)\n",
    "        line2_1 = VMobject()\n",
    "        self.add(line2, d2, line2_1)\n",
    "        line2_1.add_updater(lambda x: x.become(Line(Dot(point=line2.n2p(0)), d2.get_center()).set_color(RED)))\n",
    "        self.play(MoveAlongPath(d2, line2), rate_func=linear, run_time=3)\n",
    "        self.wait()"
   ]
  },
  {
   "cell_type": "code",
   "execution_count": 12,
   "metadata": {},
   "outputs": [
    {
     "data": {
      "text/html": [
       "<img src=\"None\"/>"
      ],
      "text/plain": [
       "<IPython.core.display.Image object>"
      ]
     },
     "metadata": {},
     "output_type": "display_data"
    }
   ],
   "source": [
    "%%manim -v WARNING -ql world_3d\n",
    "\n",
    "class world_3d(ThreeDScene):\n",
    "    def construct(self):\n",
    "        ax = ThreeDAxes()\n",
    "        lab = ax.get_z_axis_label(Tex(\"$z$-label\"))\n",
    "        self.set_camera_orientation(phi=2*PI/5, theta=PI/5)\n",
    "        self.add(ax, lab)\n",
    "        "
   ]
  }
 ],
 "metadata": {
  "interpreter": {
   "hash": "e7370f93d1d0cde622a1f8e1c04877d8463912d04d973331ad4851f04de6915a"
  },
  "kernelspec": {
   "display_name": "Python 3.10.2 64-bit",
   "language": "python",
   "name": "python3"
  },
  "language_info": {
   "codemirror_mode": {
    "name": "ipython",
    "version": 3
   },
   "file_extension": ".py",
   "mimetype": "text/x-python",
   "name": "python",
   "nbconvert_exporter": "python",
   "pygments_lexer": "ipython3",
   "version": "3.10.2"
  },
  "orig_nbformat": 4
 },
 "nbformat": 4,
 "nbformat_minor": 2
}
